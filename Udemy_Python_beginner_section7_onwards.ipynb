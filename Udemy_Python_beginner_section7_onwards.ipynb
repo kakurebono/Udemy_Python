{
 "cells": [
  {
   "cell_type": "code",
   "execution_count": 1,
   "metadata": {},
   "outputs": [
    {
     "ename": "TypeError",
     "evalue": "strip arg must be None or str",
     "output_type": "error",
     "traceback": [
      "\u001b[0;31m---------------------------------------------------------------------------\u001b[0m",
      "\u001b[0;31mTypeError\u001b[0m                                 Traceback (most recent call last)",
      "\u001b[0;32m<ipython-input-1-aeeda8419986>\u001b[0m in \u001b[0;36m<module>\u001b[0;34m\u001b[0m\n\u001b[1;32m      7\u001b[0m \u001b[0;34m\u001b[0m\u001b[0m\n\u001b[1;32m      8\u001b[0m \u001b[0;31m#Call .rjust() on the_string with 17 as its argument and print() the result.\u001b[0m\u001b[0;34m\u001b[0m\u001b[0;34m\u001b[0m\u001b[0;34m\u001b[0m\u001b[0m\n\u001b[0;32m----> 9\u001b[0;31m \u001b[0mprint\u001b[0m\u001b[0;34m(\u001b[0m\u001b[0mthe_string\u001b[0m\u001b[0;34m.\u001b[0m\u001b[0mstrip\u001b[0m\u001b[0;34m(\u001b[0m\u001b[0;36m17\u001b[0m\u001b[0;34m)\u001b[0m\u001b[0;34m)\u001b[0m\u001b[0;34m\u001b[0m\u001b[0;34m\u001b[0m\u001b[0m\n\u001b[0m",
      "\u001b[0;31mTypeError\u001b[0m: strip arg must be None or str"
     ]
    }
   ],
   "source": [
    "#string methods 2 exercises\n",
    "\n",
    "\n",
    "#Create a variable called the_string and assign it the string \"North Dakota\".\n",
    "\n",
    "the_string = \"North Dakota\"\n",
    "\n",
    "#Call .rjust() on the_string with 17 as its argument and print() the result.\n",
    "print(the_string.strip(17))\n"
   ]
  },
  {
   "cell_type": "code",
   "execution_count": null,
   "metadata": {},
   "outputs": [],
   "source": [
    "\n",
    "\n",
    "\n",
    "# Call .ljust() on the_string with the arguments 17 and \"*\" then print() the result.\n",
    "\n",
    "# Create a variable called center_plus and assign it the result of .center() being called on the_string with 16 and \"+\" as arguments.\n",
    "\n",
    "# Use print() to display the string assigned to center_plus.\n",
    "\n",
    "# Call .lstrip() on the_string to remove \"North\" then print() the result.\n",
    "\n",
    "# Call .rstrip() on center_plus with \"+\" as its argument and print() the result.\n",
    "\n",
    "# Call .strip() on center_plus with \"+\" as its argument and print() the result.\n",
    "\n",
    "# Call .replace() on the_string and replace \"North\" with \"South\".  print() the result"
   ]
  }
 ],
 "metadata": {
  "kernelspec": {
   "display_name": "Python 3",
   "language": "python",
   "name": "python3"
  },
  "language_info": {
   "codemirror_mode": {
    "name": "ipython",
    "version": 3
   },
   "file_extension": ".py",
   "mimetype": "text/x-python",
   "name": "python",
   "nbconvert_exporter": "python",
   "pygments_lexer": "ipython3",
   "version": "3.8.3"
  }
 },
 "nbformat": 4,
 "nbformat_minor": 4
}
